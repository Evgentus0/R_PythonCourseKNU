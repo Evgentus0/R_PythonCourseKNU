{
 "cells": [
  {
   "cell_type": "markdown",
   "id": "fba5263a",
   "metadata": {},
   "source": [
    "This data contains data about countries, years, sex, age, suicides and population"
   ]
  },
  {
   "cell_type": "code",
   "execution_count": 2,
   "id": "9f60104a",
   "metadata": {
    "scrolled": false
   },
   "outputs": [
    {
     "data": {
      "text/html": [
       "<div>\n",
       "<style scoped>\n",
       "    .dataframe tbody tr th:only-of-type {\n",
       "        vertical-align: middle;\n",
       "    }\n",
       "\n",
       "    .dataframe tbody tr th {\n",
       "        vertical-align: top;\n",
       "    }\n",
       "\n",
       "    .dataframe thead th {\n",
       "        text-align: right;\n",
       "    }\n",
       "</style>\n",
       "<table border=\"1\" class=\"dataframe\">\n",
       "  <thead>\n",
       "    <tr style=\"text-align: right;\">\n",
       "      <th></th>\n",
       "      <th>country</th>\n",
       "      <th>year</th>\n",
       "      <th>sex</th>\n",
       "      <th>age</th>\n",
       "      <th>suicides_no</th>\n",
       "      <th>population</th>\n",
       "      <th>suicides/100k pop</th>\n",
       "    </tr>\n",
       "  </thead>\n",
       "  <tbody>\n",
       "    <tr>\n",
       "      <th>0</th>\n",
       "      <td>Albania</td>\n",
       "      <td>1987</td>\n",
       "      <td>male</td>\n",
       "      <td>15-24 years</td>\n",
       "      <td>21</td>\n",
       "      <td>312900</td>\n",
       "      <td>6.71</td>\n",
       "    </tr>\n",
       "    <tr>\n",
       "      <th>1</th>\n",
       "      <td>Albania</td>\n",
       "      <td>1987</td>\n",
       "      <td>male</td>\n",
       "      <td>35-54 years</td>\n",
       "      <td>16</td>\n",
       "      <td>308000</td>\n",
       "      <td>5.19</td>\n",
       "    </tr>\n",
       "    <tr>\n",
       "      <th>2</th>\n",
       "      <td>Albania</td>\n",
       "      <td>1987</td>\n",
       "      <td>female</td>\n",
       "      <td>15-24 years</td>\n",
       "      <td>14</td>\n",
       "      <td>289700</td>\n",
       "      <td>4.83</td>\n",
       "    </tr>\n",
       "    <tr>\n",
       "      <th>3</th>\n",
       "      <td>Albania</td>\n",
       "      <td>1987</td>\n",
       "      <td>male</td>\n",
       "      <td>75+ years</td>\n",
       "      <td>1</td>\n",
       "      <td>21800</td>\n",
       "      <td>4.59</td>\n",
       "    </tr>\n",
       "    <tr>\n",
       "      <th>4</th>\n",
       "      <td>Albania</td>\n",
       "      <td>1987</td>\n",
       "      <td>male</td>\n",
       "      <td>25-34 years</td>\n",
       "      <td>9</td>\n",
       "      <td>274300</td>\n",
       "      <td>3.28</td>\n",
       "    </tr>\n",
       "    <tr>\n",
       "      <th>...</th>\n",
       "      <td>...</td>\n",
       "      <td>...</td>\n",
       "      <td>...</td>\n",
       "      <td>...</td>\n",
       "      <td>...</td>\n",
       "      <td>...</td>\n",
       "      <td>...</td>\n",
       "    </tr>\n",
       "    <tr>\n",
       "      <th>27815</th>\n",
       "      <td>Uzbekistan</td>\n",
       "      <td>2014</td>\n",
       "      <td>female</td>\n",
       "      <td>35-54 years</td>\n",
       "      <td>107</td>\n",
       "      <td>3620833</td>\n",
       "      <td>2.96</td>\n",
       "    </tr>\n",
       "    <tr>\n",
       "      <th>27816</th>\n",
       "      <td>Uzbekistan</td>\n",
       "      <td>2014</td>\n",
       "      <td>female</td>\n",
       "      <td>75+ years</td>\n",
       "      <td>9</td>\n",
       "      <td>348465</td>\n",
       "      <td>2.58</td>\n",
       "    </tr>\n",
       "    <tr>\n",
       "      <th>27817</th>\n",
       "      <td>Uzbekistan</td>\n",
       "      <td>2014</td>\n",
       "      <td>male</td>\n",
       "      <td>5-14 years</td>\n",
       "      <td>60</td>\n",
       "      <td>2762158</td>\n",
       "      <td>2.17</td>\n",
       "    </tr>\n",
       "    <tr>\n",
       "      <th>27818</th>\n",
       "      <td>Uzbekistan</td>\n",
       "      <td>2014</td>\n",
       "      <td>female</td>\n",
       "      <td>5-14 years</td>\n",
       "      <td>44</td>\n",
       "      <td>2631600</td>\n",
       "      <td>1.67</td>\n",
       "    </tr>\n",
       "    <tr>\n",
       "      <th>27819</th>\n",
       "      <td>Uzbekistan</td>\n",
       "      <td>2014</td>\n",
       "      <td>female</td>\n",
       "      <td>55-74 years</td>\n",
       "      <td>21</td>\n",
       "      <td>1438935</td>\n",
       "      <td>1.46</td>\n",
       "    </tr>\n",
       "  </tbody>\n",
       "</table>\n",
       "<p>27820 rows × 7 columns</p>\n",
       "</div>"
      ],
      "text/plain": [
       "          country  year     sex          age  suicides_no  population  \\\n",
       "0         Albania  1987    male  15-24 years           21      312900   \n",
       "1         Albania  1987    male  35-54 years           16      308000   \n",
       "2         Albania  1987  female  15-24 years           14      289700   \n",
       "3         Albania  1987    male    75+ years            1       21800   \n",
       "4         Albania  1987    male  25-34 years            9      274300   \n",
       "...           ...   ...     ...          ...          ...         ...   \n",
       "27815  Uzbekistan  2014  female  35-54 years          107     3620833   \n",
       "27816  Uzbekistan  2014  female    75+ years            9      348465   \n",
       "27817  Uzbekistan  2014    male   5-14 years           60     2762158   \n",
       "27818  Uzbekistan  2014  female   5-14 years           44     2631600   \n",
       "27819  Uzbekistan  2014  female  55-74 years           21     1438935   \n",
       "\n",
       "       suicides/100k pop  \n",
       "0                   6.71  \n",
       "1                   5.19  \n",
       "2                   4.83  \n",
       "3                   4.59  \n",
       "4                   3.28  \n",
       "...                  ...  \n",
       "27815               2.96  \n",
       "27816               2.58  \n",
       "27817               2.17  \n",
       "27818               1.67  \n",
       "27819               1.46  \n",
       "\n",
       "[27820 rows x 7 columns]"
      ]
     },
     "execution_count": 2,
     "metadata": {},
     "output_type": "execute_result"
    }
   ],
   "source": [
    "import pandas as pd\n",
    "\n",
    "data = pd.read_csv('suicide.csv')\n",
    "data"
   ]
  },
  {
   "cell_type": "markdown",
   "id": "ecc4a37b",
   "metadata": {},
   "source": [
    "Found the count of suicides for male and female"
   ]
  },
  {
   "cell_type": "code",
   "execution_count": 9,
   "id": "4b152d6f",
   "metadata": {},
   "outputs": [
    {
     "data": {
      "text/plain": [
       "sex\n",
       "female    1559510\n",
       "male      5188910\n",
       "Name: suicides_no, dtype: int64"
      ]
     },
     "execution_count": 9,
     "metadata": {},
     "output_type": "execute_result"
    }
   ],
   "source": [
    "data.groupby([\"sex\"]).sum()[\"suicides_no\"]\n"
   ]
  },
  {
   "cell_type": "markdown",
   "id": "a9942f4d",
   "metadata": {},
   "source": [
    "Found the count of suicides for ages"
   ]
  },
  {
   "cell_type": "code",
   "execution_count": 15,
   "id": "6d85bb52",
   "metadata": {},
   "outputs": [
    {
     "data": {
      "text/plain": [
       "age\n",
       "15-24 years     808542\n",
       "25-34 years    1123912\n",
       "35-54 years    2452141\n",
       "5-14 years       52264\n",
       "55-74 years    1658443\n",
       "75+ years       653118\n",
       "Name: suicides_no, dtype: int64"
      ]
     },
     "execution_count": 15,
     "metadata": {},
     "output_type": "execute_result"
    }
   ],
   "source": [
    "data.groupby([\"age\"]).sum()[\"suicides_no\"]"
   ]
  },
  {
   "cell_type": "markdown",
   "id": "57441e10",
   "metadata": {},
   "source": [
    "Found the count of suicides for years"
   ]
  },
  {
   "cell_type": "code",
   "execution_count": 16,
   "id": "3e93a550",
   "metadata": {},
   "outputs": [
    {
     "data": {
      "text/plain": [
       "year\n",
       "1985    116063\n",
       "1986    120670\n",
       "1987    126842\n",
       "1988    121026\n",
       "1989    160244\n",
       "1990    193361\n",
       "1991    198020\n",
       "1992    211473\n",
       "1993    221565\n",
       "1994    232063\n",
       "1995    243544\n",
       "1996    246725\n",
       "1997    240745\n",
       "1998    249591\n",
       "1999    256119\n",
       "2000    255832\n",
       "2001    250652\n",
       "2002    256095\n",
       "2003    256079\n",
       "2004    240861\n",
       "2005    234375\n",
       "2006    233361\n",
       "2007    233408\n",
       "2008    235447\n",
       "2009    243487\n",
       "2010    238702\n",
       "2011    236484\n",
       "2012    230160\n",
       "2013    223199\n",
       "2014    222984\n",
       "2015    203640\n",
       "2016     15603\n",
       "Name: suicides_no, dtype: int64"
      ]
     },
     "execution_count": 16,
     "metadata": {},
     "output_type": "execute_result"
    }
   ],
   "source": [
    "data.groupby([\"year\"]).sum()[\"suicides_no\"]"
   ]
  },
  {
   "cell_type": "markdown",
   "id": "6a7a680f",
   "metadata": {},
   "source": [
    "Found the count of suicides for countries"
   ]
  },
  {
   "cell_type": "code",
   "execution_count": 17,
   "id": "370c7373",
   "metadata": {},
   "outputs": [
    {
     "data": {
      "text/plain": [
       "country\n",
       "Albania                    1970\n",
       "Antigua and Barbuda          11\n",
       "Argentina                 82219\n",
       "Armenia                    1905\n",
       "Aruba                       101\n",
       "                         ...   \n",
       "United Arab Emirates        622\n",
       "United Kingdom           136805\n",
       "United States           1034013\n",
       "Uruguay                   13138\n",
       "Uzbekistan                34803\n",
       "Name: suicides_no, Length: 101, dtype: int64"
      ]
     },
     "execution_count": 17,
     "metadata": {},
     "output_type": "execute_result"
    }
   ],
   "source": [
    "data.groupby([\"country\"]).sum()[\"suicides_no\"]"
   ]
  },
  {
   "cell_type": "code",
   "execution_count": null,
   "id": "0547e25d",
   "metadata": {},
   "outputs": [],
   "source": [
    "Found the correlation between population and suicides"
   ]
  },
  {
   "cell_type": "code",
   "execution_count": 35,
   "id": "47ed5579",
   "metadata": {},
   "outputs": [
    {
     "data": {
      "text/html": [
       "<div>\n",
       "<style scoped>\n",
       "    .dataframe tbody tr th:only-of-type {\n",
       "        vertical-align: middle;\n",
       "    }\n",
       "\n",
       "    .dataframe tbody tr th {\n",
       "        vertical-align: top;\n",
       "    }\n",
       "\n",
       "    .dataframe thead th {\n",
       "        text-align: right;\n",
       "    }\n",
       "</style>\n",
       "<table border=\"1\" class=\"dataframe\">\n",
       "  <thead>\n",
       "    <tr style=\"text-align: right;\">\n",
       "      <th></th>\n",
       "      <th>suicides_no</th>\n",
       "      <th>population</th>\n",
       "    </tr>\n",
       "  </thead>\n",
       "  <tbody>\n",
       "    <tr>\n",
       "      <th>suicides_no</th>\n",
       "      <td>1.000000</td>\n",
       "      <td>0.616162</td>\n",
       "    </tr>\n",
       "    <tr>\n",
       "      <th>population</th>\n",
       "      <td>0.616162</td>\n",
       "      <td>1.000000</td>\n",
       "    </tr>\n",
       "  </tbody>\n",
       "</table>\n",
       "</div>"
      ],
      "text/plain": [
       "             suicides_no  population\n",
       "suicides_no     1.000000    0.616162\n",
       "population      0.616162    1.000000"
      ]
     },
     "execution_count": 35,
     "metadata": {},
     "output_type": "execute_result"
    }
   ],
   "source": [
    "aggregate = data.groupby([\"country\"]).sum()\n",
    "observ = pd.DataFrame(data,columns=['suicides_no','population'])\n",
    "corrMatrix = observ.corr()\n",
    "corrMatrix"
   ]
  },
  {
   "cell_type": "code",
   "execution_count": null,
   "id": "aee4354a",
   "metadata": {},
   "outputs": [],
   "source": []
  }
 ],
 "metadata": {
  "kernelspec": {
   "display_name": "Python 3 (ipykernel)",
   "language": "python",
   "name": "python3"
  },
  "language_info": {
   "codemirror_mode": {
    "name": "ipython",
    "version": 3
   },
   "file_extension": ".py",
   "mimetype": "text/x-python",
   "name": "python",
   "nbconvert_exporter": "python",
   "pygments_lexer": "ipython3",
   "version": "3.8.3"
  }
 },
 "nbformat": 4,
 "nbformat_minor": 5
}
